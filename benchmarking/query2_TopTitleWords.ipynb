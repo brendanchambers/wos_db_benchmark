{
 "cells": [
  {
   "cell_type": "markdown",
   "metadata": {},
   "source": [
    "# query 2\n",
    "\n",
    "Get the top K words appearing in article titles\n",
    "e.g. K = 10,000\n",
    "\n"
   ]
  },
  {
   "cell_type": "code",
   "execution_count": 1,
   "metadata": {},
   "outputs": [],
   "source": [
    "# repeating query 2 with no pyspark / jdbc"
   ]
  },
  {
   "cell_type": "code",
   "execution_count": 35,
   "metadata": {},
   "outputs": [],
   "source": [
    "import pymysql\n",
    "\n",
    "import os\n",
    "import time\n",
    "from collections import defaultdict, Counter\n",
    "import string\n",
    "import json"
   ]
  },
  {
   "cell_type": "code",
   "execution_count": 10,
   "metadata": {},
   "outputs": [],
   "source": [
    "db_name = 'test_wos_cut_full'\n",
    "client_config = {'unix_socket':'/project2/jevans/study_dbs/mysql/.sql.sock',\n",
    "                'database': db_name}\n",
    "\n",
    "# temp\n",
    "\n",
    "cursor.close()\n",
    "db.close()"
   ]
  },
  {
   "cell_type": "code",
   "execution_count": 33,
   "metadata": {},
   "outputs": [
    {
     "name": "stdout",
     "output_type": "stream",
     "text": [
      "SELECT title\n",
      "        FROM publications\n",
      "warning on title (None,)\n",
      "warning on title (None,)\n",
      "warning on title (None,)\n",
      "warning on title (None,)\n",
      "warning on title (None,)\n",
      "warning on title (None,)\n",
      "warning on title (None,)\n",
      "sorting dictionary...\n",
      "elapsed (s): 100.15733695030212\n"
     ]
    }
   ],
   "source": [
    "start_time = time.time()\n",
    "\n",
    "sql = '''SELECT title\n",
    "        FROM publications'''\n",
    "print(sql)\n",
    "\n",
    "db = pymysql.connect(**client_config)\n",
    "cursor = db.cursor()\n",
    "cursor.execute(sql)\n",
    "\n",
    "dictionary = defaultdict(int)\n",
    "for i,result in enumerate(cursor):\n",
    "    try:\n",
    "        text = result[0].lower()  # lower case\n",
    "        # remove punctuation\n",
    "        text = text.translate(str.maketrans('', '', string.punctuation))\n",
    "        # count words in a stream\n",
    "        for word in text.split():\n",
    "            dictionary[word] += 1\n",
    "    except:\n",
    "        print('warning on title {}'.format(result))\n",
    "        \n",
    "print('sorting dictionary...')\n",
    "K_common = 10000\n",
    "frequent_words = Counter(dictionary).most_common(K_common)\n",
    "\n",
    "cursor.close()\n",
    "db.close()\n",
    "\n",
    "end_time = time.time()\n",
    "elapsed = end_time - start_time\n",
    "print(\"elapsed (s): {}\".format(elapsed))\n"
   ]
  },
  {
   "cell_type": "code",
   "execution_count": 36,
   "metadata": {},
   "outputs": [],
   "source": [
    "save_obj = {'elapsed': elapsed,\n",
    "            'K_common': K_common,\n",
    "           'frequent_words': frequent_words}\n",
    "\n",
    "with open('query2_results.json','w') as f:\n",
    "    json.dump(save_obj, f)"
   ]
  },
  {
   "cell_type": "code",
   "execution_count": null,
   "metadata": {},
   "outputs": [],
   "source": []
  }
 ],
 "metadata": {
  "kernelspec": {
   "display_name": "Python 3",
   "language": "python",
   "name": "python3"
  },
  "language_info": {
   "codemirror_mode": {
    "name": "ipython",
    "version": 3
   },
   "file_extension": ".py",
   "mimetype": "text/x-python",
   "name": "python",
   "nbconvert_exporter": "python",
   "pygments_lexer": "ipython3",
   "version": "3.7.4"
  }
 },
 "nbformat": 4,
 "nbformat_minor": 2
}
