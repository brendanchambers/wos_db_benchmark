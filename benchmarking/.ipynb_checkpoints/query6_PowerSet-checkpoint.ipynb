{
 "cells": [
  {
   "cell_type": "code",
   "execution_count": 1,
   "metadata": {},
   "outputs": [],
   "source": [
    "# query 6\n",
    "\n",
    "# cited by cited by cited by...\n",
    "#   https://coda.io/d/WoS-db_d2zsZYQIcsP/Test-queries_suE54?utm_campaign=link&utm_medium=web&utm_source=2zsZYQIcsP&loginToken=eyJjc3JmVG9rZW4iOiJJakV5TkhveU1WcEZURkZwWWxOWE9Hd2kiLCJleHBpcnlNc2VjIjoxNTYyMDk3NTk0MjI5fQ#_lu4Eu\n",
    "\n",
    "\n",
    "# suggestions for improvement--\n",
    "#   possibly use RECURSIVE instead of enumerating each step"
   ]
  },
  {
   "cell_type": "code",
   "execution_count": 2,
   "metadata": {},
   "outputs": [],
   "source": [
    "import pymysql\n",
    "import time\n",
    "import json"
   ]
  },
  {
   "cell_type": "code",
   "execution_count": 3,
   "metadata": {},
   "outputs": [],
   "source": [
    "# mysql parameters\n",
    "\n",
    "db_name = 'test_wos_cut_full'\n",
    "client_config = {'unix_socket':'/project2/jevans/study_dbs/mysql/.sql.sock',\n",
    "                'database': db_name}"
   ]
  },
  {
   "cell_type": "code",
   "execution_count": 8,
   "metadata": {},
   "outputs": [],
   "source": [
    "# query parameters\n",
    "year = 1978\n"
   ]
  },
  {
   "cell_type": "code",
   "execution_count": 13,
   "metadata": {},
   "outputs": [
    {
     "name": "stdout",
     "output_type": "stream",
     "text": [
      "['WOS:A1978EN08800026', 'WOS:A1978EM12800027', 'WOS:A1978EU94600052', 'WOS:A1978EU94600059', 'WOS:A1978EQ77900041', 'WOS:A1978EU94600096', 'WOS:A1978GC55400002', 'WOS:A1978EK65900015', 'WOS:A1978FU61400051', 'WOS:A1978GC55400032', 'WOS:A1978ES36300014', 'WOS:A1978EM12800043', 'WOS:A1978FE04000024', 'WOS:A1978ES45300027', 'WOS:A1978EJ66300016', 'WOS:A1978FN26200042', 'WOS:A1978FN26200044', 'WOS:A1978FE24300003', 'WOS:A1978EW43900021', 'WOS:A1978GC55400003', 'WOS:A1978FU73000035', 'WOS:A1978EM12800019', 'WOS:A1978ES36300006', 'WOS:A1978EM12800022', 'WOS:A1978ES36300001', 'WOS:A1978EU94600057', 'WOS:A1978EQ77900018', 'WOS:A1978EN45000018', 'WOS:A1978ES36300004', 'WOS:A1978EK60900018', 'WOS:A1978FU83100027', 'WOS:A1978ES36300002', 'WOS:A1978EQ07800020', 'WOS:A1978EM99800016', 'WOS:A1978EK65900043', 'WOS:A1978FB94300027', 'WOS:A1978EL80800011', 'WOS:A1978EG71400017', 'WOS:A1978FE24300004', 'WOS:A1978FL83700020', 'WOS:A1978EK02600040', 'WOS:A1978FQ44400006', 'WOS:A1978FS34900028', 'WOS:A1978FQ54500043', 'WOS:A1978EU94600090', 'WOS:A1978FH78000008', 'WOS:A1978FD62200004', 'WOS:A1978FU61400087', 'WOS:A1978FA09000011', 'WOS:A1978FJ88100066', 'WOS:A1978EK02600008', 'WOS:A1978EM12800080', 'WOS:A1978FQ44400002', 'WOS:A1978EX58100001', 'WOS:A1978FE24300017', 'WOS:A1978FM72500018', 'WOS:A1978EM86300002', 'WOS:A1978FT30200025', 'WOS:A1978EQ58300013', 'WOS:A1978EJ16700006', 'WOS:A1978FM72500017', 'WOS:A1978EV69500056', 'WOS:A1978FN26200075', 'WOS:A1978EJ92000066', 'WOS:A1978EM37600051', 'WOS:A1978EH33500044', 'WOS:A1978FH82200025', 'WOS:A1978FJ84900025', 'WOS:A1978FE80700061', 'WOS:A1978FK40200016', 'WOS:A1978EV09700019', 'WOS:A1978GC55400004', 'WOS:A1978EV91500029', 'WOS:A1978EH47700003', 'WOS:A1978EM12800076', 'WOS:A1978EH33200008', 'WOS:A1978EK91200004', 'WOS:A1978EG94300047', 'WOS:A1978EL47700002', 'WOS:A1978FM72500020', 'WOS:A1978FS46500047', 'WOS:A1978EK65900051', 'WOS:A1978FA76400024', 'WOS:A1978FA09000020', 'WOS:A1978FD81700029', 'WOS:A1978FC15600038', 'WOS:A1978FK40200015', 'WOS:A1978EU94600041', 'WOS:A1978ES72900027', 'WOS:A1978EW03300011', 'WOS:A1978EU94600117', 'WOS:A1978EJ92000032', 'WOS:A1978FE37800029', 'WOS:A1978FX85700031', 'WOS:A1978EN04000013', 'WOS:A1978FK01700020', 'WOS:A1978FJ88100057', 'WOS:A1978EW03300012', 'WOS:A1978FU61400021', 'WOS:A1978FL81400023']\n"
     ]
    }
   ],
   "source": [
    "# load top 100 articles from query 4\n",
    "with open('query4_results.json','r') as f:\n",
    "    loaded_data = json.load(f)\n",
    "    papers = [d['A'] for d in loaded_data['results'][:100]]"
   ]
  },
  {
   "cell_type": "code",
   "execution_count": null,
   "metadata": {},
   "outputs": [
    {
     "name": "stdout",
     "output_type": "stream",
     "text": [
      "SELECT T4.s0, T4.s1, T4.s2, T4.s3, T4.s4, P5.wos_id as s5, count(*) as cnt\n",
      "        FROM\n",
      "            (SELECT T3.s0 as s0, T3.s1 as s1, T3.s2 as s2, T3.s3 as s3, P4.wos_id as s4\n",
      "            FROM\n",
      "                (SELECT T2.s0 as s0, T2.s1 as s1, T2.s2 as s2, P3.wos_id as s3\n",
      "                FROM\n",
      "                    (SELECT T1.s0 as s0, T1.s1 as s1, P2.wos_id as s2\n",
      "                    FROM\n",
      "                        (SELECT P0.wos_id as s0, P1.wos_id as s1\n",
      "                        FROM publications as P0\n",
      "                            JOIN the_references as R0 ON P0.wos_id=R0.uid\n",
      "                            JOIN publications as P1 ON R0.wos_id=P1.wos_id\n",
      "                        WHERE P0.wos_id IN (\"WOS:A1978EN08800026\", \"WOS:A1978EM12800027\", \"WOS:A1978EU94600052\", \"WOS:A1978EU94600059\", \"WOS:A1978EQ77900041\", \"WOS:A1978EU94600096\", \"WOS:A1978GC55400002\", \"WOS:A1978EK65900015\", \"WOS:A1978FU61400051\", \"WOS:A1978GC55400032\", \"WOS:A1978ES36300014\", \"WOS:A1978EM12800043\", \"WOS:A1978FE04000024\", \"WOS:A1978ES45300027\", \"WOS:A1978EJ66300016\", \"WOS:A1978FN26200042\", \"WOS:A1978FN26200044\", \"WOS:A1978FE24300003\", \"WOS:A1978EW43900021\", \"WOS:A1978GC55400003\", \"WOS:A1978FU73000035\", \"WOS:A1978EM12800019\", \"WOS:A1978ES36300006\", \"WOS:A1978EM12800022\", \"WOS:A1978ES36300001\", \"WOS:A1978EU94600057\", \"WOS:A1978EQ77900018\", \"WOS:A1978EN45000018\", \"WOS:A1978ES36300004\", \"WOS:A1978EK60900018\", \"WOS:A1978FU83100027\", \"WOS:A1978ES36300002\", \"WOS:A1978EQ07800020\", \"WOS:A1978EM99800016\", \"WOS:A1978EK65900043\", \"WOS:A1978FB94300027\", \"WOS:A1978EL80800011\", \"WOS:A1978EG71400017\", \"WOS:A1978FE24300004\", \"WOS:A1978FL83700020\", \"WOS:A1978EK02600040\", \"WOS:A1978FQ44400006\", \"WOS:A1978FS34900028\", \"WOS:A1978FQ54500043\", \"WOS:A1978EU94600090\", \"WOS:A1978FH78000008\", \"WOS:A1978FD62200004\", \"WOS:A1978FU61400087\", \"WOS:A1978FA09000011\", \"WOS:A1978FJ88100066\", \"WOS:A1978EK02600008\", \"WOS:A1978EM12800080\", \"WOS:A1978FQ44400002\", \"WOS:A1978EX58100001\", \"WOS:A1978FE24300017\", \"WOS:A1978FM72500018\", \"WOS:A1978EM86300002\", \"WOS:A1978FT30200025\", \"WOS:A1978EQ58300013\", \"WOS:A1978EJ16700006\", \"WOS:A1978FM72500017\", \"WOS:A1978EV69500056\", \"WOS:A1978FN26200075\", \"WOS:A1978EJ92000066\", \"WOS:A1978EM37600051\", \"WOS:A1978EH33500044\", \"WOS:A1978FH82200025\", \"WOS:A1978FJ84900025\", \"WOS:A1978FE80700061\", \"WOS:A1978FK40200016\", \"WOS:A1978EV09700019\", \"WOS:A1978GC55400004\", \"WOS:A1978EV91500029\", \"WOS:A1978EH47700003\", \"WOS:A1978EM12800076\", \"WOS:A1978EH33200008\", \"WOS:A1978EK91200004\", \"WOS:A1978EG94300047\", \"WOS:A1978EL47700002\", \"WOS:A1978FM72500020\", \"WOS:A1978FS46500047\", \"WOS:A1978EK65900051\", \"WOS:A1978FA76400024\", \"WOS:A1978FA09000020\", \"WOS:A1978FD81700029\", \"WOS:A1978FC15600038\", \"WOS:A1978FK40200015\", \"WOS:A1978EU94600041\", \"WOS:A1978ES72900027\", \"WOS:A1978EW03300011\", \"WOS:A1978EU94600117\", \"WOS:A1978EJ92000032\", \"WOS:A1978FE37800029\", \"WOS:A1978FX85700031\", \"WOS:A1978EN04000013\", \"WOS:A1978FK01700020\", \"WOS:A1978FJ88100057\", \"WOS:A1978EW03300012\", \"WOS:A1978FU61400021\", \"WOS:A1978FL81400023\")) T1\n",
      "\n",
      "                    JOIN the_references as R1 ON T1.s1=R1.uid\n",
      "                    JOIN publications as P2 ON R1.wos_id=P2.wos_id) T2\n",
      "\n",
      "                JOIN the_references as R2 ON T2.s2=R2.uid\n",
      "                JOIN publications as P3 ON R2.wos_id=P3.wos_id) T3\n",
      "\n",
      "            JOIN the_references as R3 ON T3.s3=R3.uid\n",
      "            JOIN publications as P4 ON R3.wos_id=P4.wos_id) T4\n",
      "        \n",
      "        JOIN the_references as R4 ON T4.s4=R4.uid\n",
      "        JOIN publications as P5 ON R4.wos_id=P5.wos_id\n",
      "           \n",
      "        GROUP BY T4.s0\n",
      "        ORDER BY cnt DESC\n",
      "        LIMIT 100\n",
      "         \n",
      " ---------------------------- \n",
      "\n"
     ]
    }
   ],
   "source": [
    "\n",
    "# run query\n",
    "start_time = time.time()\n",
    "\n",
    "#   in order to protect against\n",
    "#   SQL injection risks, \n",
    "#   it's better to pass arguments directly\n",
    "#   to mysql (without formatting\n",
    "#   as one long string):\n",
    "#   see https://stackoverflow.com/questions/589284/imploding-a-list-for-use-in-a-python-mysqldb-in-clause  \n",
    "#   ---do as we say, not as we do---\n",
    "db = pymysql.connect(**client_config)\n",
    "cursor = db.cursor()\n",
    "papers_str =  ', '.join([\"\\\"\"+p+\"\\\"\" for p in papers]) # for convenient but injection-risky insertion into the SQL query\n",
    "sql = '''SELECT T4.s0, T4.s1, T4.s2, T4.s3, T4.s4, P5.wos_id as s5, count(*) as cnt\n",
    "        FROM\n",
    "            (SELECT T3.s0 as s0, T3.s1 as s1, T3.s2 as s2, T3.s3 as s3, P4.wos_id as s4\n",
    "            FROM\n",
    "                (SELECT T2.s0 as s0, T2.s1 as s1, T2.s2 as s2, P3.wos_id as s3\n",
    "                FROM\n",
    "                    (SELECT T1.s0 as s0, T1.s1 as s1, P2.wos_id as s2\n",
    "                    FROM\n",
    "                        (SELECT P0.wos_id as s0, P1.wos_id as s1\n",
    "                        FROM publications as P0\n",
    "                            JOIN the_references as R0 ON P0.wos_id=R0.uid\n",
    "                            JOIN publications as P1 ON R0.wos_id=P1.wos_id\n",
    "                        WHERE P0.wos_id IN ({})) T1\n",
    "\n",
    "                    JOIN the_references as R1 ON T1.s1=R1.uid\n",
    "                    JOIN publications as P2 ON R1.wos_id=P2.wos_id) T2\n",
    "\n",
    "                JOIN the_references as R2 ON T2.s2=R2.uid\n",
    "                JOIN publications as P3 ON R2.wos_id=P3.wos_id) T3\n",
    "\n",
    "            JOIN the_references as R3 ON T3.s3=R3.uid\n",
    "            JOIN publications as P4 ON R3.wos_id=P4.wos_id) T4\n",
    "        \n",
    "        JOIN the_references as R4 ON T4.s4=R4.uid\n",
    "        JOIN publications as P5 ON R4.wos_id=P5.wos_id\n",
    "           \n",
    "        GROUP BY T4.s0\n",
    "        ORDER BY cnt DESC\n",
    "        LIMIT 100\n",
    "        '''.format(papers_str)\n",
    "print(sql, '\\n','----------------------------','\\n')\n",
    "cursor.execute(sql)\n",
    "\n",
    "results = []\n",
    "for i,result in enumerate(cursor):\n",
    "    print(result)\n",
    "    results.append(result)\n",
    "cursor.close()\n",
    "db.close()\n",
    "\n",
    "end_time = time.time()\n",
    "elapsed = end_time - start_time\n",
    "print(\"elapsed (s): {}\".format(elapsed))\n",
    "#print('results: \\n----------------------------------')    \n",
    "#print(results)\n",
    "\n",
    "# write results\n",
    "save_obj = {'elapsed': elapsed,\n",
    "           'results': results}\n",
    "with open('query5_results.json','w') as f:\n",
    "    json.dump(save_obj, f)\n"
   ]
  },
  {
   "cell_type": "code",
   "execution_count": null,
   "metadata": {},
   "outputs": [],
   "source": []
  },
  {
   "cell_type": "code",
   "execution_count": null,
   "metadata": {},
   "outputs": [],
   "source": []
  },
  {
   "cell_type": "code",
   "execution_count": null,
   "metadata": {},
   "outputs": [],
   "source": []
  },
  {
   "cell_type": "code",
   "execution_count": null,
   "metadata": {},
   "outputs": [],
   "source": []
  },
  {
   "cell_type": "code",
   "execution_count": null,
   "metadata": {},
   "outputs": [],
   "source": []
  },
  {
   "cell_type": "code",
   "execution_count": null,
   "metadata": {},
   "outputs": [],
   "source": []
  }
 ],
 "metadata": {
  "kernelspec": {
   "display_name": "Python 3",
   "language": "python",
   "name": "python3"
  },
  "language_info": {
   "codemirror_mode": {
    "name": "ipython",
    "version": 3
   },
   "file_extension": ".py",
   "mimetype": "text/x-python",
   "name": "python",
   "nbconvert_exporter": "python",
   "pygments_lexer": "ipython3",
   "version": "3.7.4"
  }
 },
 "nbformat": 4,
 "nbformat_minor": 2
}
