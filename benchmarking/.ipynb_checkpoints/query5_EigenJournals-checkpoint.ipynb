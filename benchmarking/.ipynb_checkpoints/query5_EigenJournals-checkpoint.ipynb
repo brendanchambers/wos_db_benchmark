{
 "cells": [
  {
   "cell_type": "code",
   "execution_count": 1,
   "metadata": {},
   "outputs": [],
   "source": [
    "# query 5\n",
    "\n",
    "# eigenfactor connectivity   todo what are the details?\n"
   ]
  },
  {
   "cell_type": "code",
   "execution_count": 2,
   "metadata": {},
   "outputs": [],
   "source": [
    "import pymysql\n",
    "import time"
   ]
  },
  {
   "cell_type": "code",
   "execution_count": 3,
   "metadata": {},
   "outputs": [],
   "source": [
    "db_name = 'test_wos_cut_full'\n",
    "\n",
    "client_config = {'unix_socket':'/project2/jevans/study_dbs/mysql/.sql.sock',\n",
    "                'database': db_name}"
   ]
  },
  {
   "cell_type": "code",
   "execution_count": null,
   "metadata": {},
   "outputs": [],
   "source": [
    "# get list of years\n",
    "\n",
    "K_countries = 2  # todo apply this cutoff\n",
    "\n",
    "start_time = time.time()\n",
    "\n",
    "db = pymysql.connect(**client_config)\n",
    "\n",
    "cursor = db.cursor()\n",
    "sql = '''\n",
    "\n",
    "        '''\n",
    "\n",
    "cursor.execute(sql)\n",
    "\n",
    "for i,result in enumerate(cursor):\n",
    "    print('{}: '.format(i))\n",
    "    print(result)\n",
    "results = cursor.fetchall()\n",
    "print(results)\n",
    "\n",
    "cursor.close()\n",
    "db.close()\n",
    "\n",
    "end_time = time.time()\n",
    "print(\"elapsed (s): {}\".format(end_time - start_time))\n"
   ]
  }
 ],
 "metadata": {
  "kernelspec": {
   "display_name": "Python 3",
   "language": "python",
   "name": "python3"
  },
  "language_info": {
   "codemirror_mode": {
    "name": "ipython",
    "version": 3
   },
   "file_extension": ".py",
   "mimetype": "text/x-python",
   "name": "python",
   "nbconvert_exporter": "python",
   "pygments_lexer": "ipython3",
   "version": "3.7.3"
  }
 },
 "nbformat": 4,
 "nbformat_minor": 2
}
