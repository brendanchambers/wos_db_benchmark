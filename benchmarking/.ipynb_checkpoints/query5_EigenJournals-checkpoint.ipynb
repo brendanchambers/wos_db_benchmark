{
 "cells": [
  {
   "cell_type": "code",
   "execution_count": 1,
   "metadata": {},
   "outputs": [],
   "source": [
    "# query 5\n",
    "\n",
    "# eigenfactor connectivity   todo what are the details?\n"
   ]
  },
  {
   "cell_type": "code",
   "execution_count": 1,
   "metadata": {},
   "outputs": [],
   "source": [
    "import pymysql\n",
    "import time\n",
    "import json"
   ]
  },
  {
   "cell_type": "code",
   "execution_count": 2,
   "metadata": {},
   "outputs": [],
   "source": [
    "# mysql parameters\n",
    "\n",
    "db_name = 'test_wos_cut_full'\n",
    "client_config = {'unix_socket':'/project2/jevans/study_dbs/mysql/.sql.sock',\n",
    "                'database': db_name}"
   ]
  },
  {
   "cell_type": "code",
   "execution_count": null,
   "metadata": {},
   "outputs": [],
   "source": [
    "# query parameters\n",
    "\n",
    "batch_sizes = [5,10,25,125]\n",
    "year = 1978  # for the year specified here\n",
    "lookback_window = 5  # years"
   ]
  },
  {
   "cell_type": "code",
   "execution_count": 3,
   "metadata": {},
   "outputs": [],
   "source": [
    "# load top 125 journals from 1978 (from query 1)\n",
    "with open('query1_results_125.json','r') as f:\n",
    "    loaded_data = json.load(f)\n",
    "    results = loaded_data['results_1978']\n",
    "    top_journals = [l[1] for l in results]"
   ]
  },
  {
   "cell_type": "code",
   "execution_count": 4,
   "metadata": {},
   "outputs": [
    {
     "name": "stdout",
     "output_type": "stream",
     "text": [
      "batch size 5\n",
      "batch size 10\n",
      "batch size 25\n",
      "batch size 125\n"
     ]
    }
   ],
   "source": [
    "# todo aggregate\n",
    "for batch_size in batch_sizes:\n",
    "    \n",
    "    print('batch size {}'.format(batch_size))\n",
    "    \n",
    "    # run query\n",
    "    start_time = time.time()\n",
    "\n",
    "    BATCH_SIZE = batch_size\n",
    "    journals = top_journals[:BATCH_SIZE]\n",
    "\n",
    "    #   in order to protect against\n",
    "    #   SQL injection risks, \n",
    "    #   it's better to pass arguments directly\n",
    "    #   to mysql (without formatting\n",
    "    #   as one long string):\n",
    "    #   see https://stackoverflow.com/questions/589284/imploding-a-list-for-use-in-a-python-mysqldb-in-clause  \n",
    "    #   ---do as we say, not as we do---\n",
    "    db = pymysql.connect(**client_config)\n",
    "    cursor = db.cursor()\n",
    "    journals_str =  ', '.join([\"\\\"\"+j+\"\\\"\" for j in journals]) # for convenient but injection-risky insertion into the SQL query\n",
    "    sql = '''SELECT P_citing.source as citing_journal,\n",
    "                    P_cited.source as cited_journal,\n",
    "                    count(*) as count\n",
    "            FROM publications as P_citing\n",
    "                JOIN the_references R1\n",
    "                    ON P_citing.wos_id=R1.wos_id\n",
    "                JOIN publications P_cited\n",
    "                    ON P_cited.wos_id=R1.uid\n",
    "            WHERE (P_citing.pubyear={}) AND\n",
    "                (P_citing.source IN ({})) AND\n",
    "                (P_cited.pubyear >= {}) AND\n",
    "                (P_cited.pubyear < {}) AND\n",
    "                (P_cited.source IN ({}))\n",
    "            GROUP BY citing_journal, cited_journal\n",
    "            ORDER BY count DESC\n",
    "            '''.format(year,\n",
    "                       journals_str,\n",
    "                       year-lookback_window,\n",
    "                       year,\n",
    "                       journals_str)\n",
    "    print(sql, '\\n','----------------------------','\\n')\n",
    "    cursor.execute(sql)\n",
    "\n",
    "    results = []\n",
    "    for i,result in enumerate(cursor):\n",
    "        results.append(result)\n",
    "    cursor.close()\n",
    "    db.close()\n",
    "\n",
    "    end_time = time.time()\n",
    "    elapsed = end_time - start_time\n",
    "    print(\"elapsed (s): {}\".format(elapsed))\n",
    "    print('results: \\n----------------------------------')    \n",
    "    print(results)\n",
    "\n",
    "    # write results\n",
    "    save_obj = {'elapsed': elapsed,\n",
    "               'results': results}\n",
    "    with open('query5_results_{}.json'.format(batch_size),'w') as f:\n",
    "        json.dump(save_obj, f)\n",
    "    "
   ]
  },
  {
   "cell_type": "code",
   "execution_count": null,
   "metadata": {},
   "outputs": [],
   "source": []
  },
  {
   "cell_type": "code",
   "execution_count": null,
   "metadata": {},
   "outputs": [],
   "source": []
  },
  {
   "cell_type": "code",
   "execution_count": null,
   "metadata": {},
   "outputs": [],
   "source": []
  },
  {
   "cell_type": "code",
   "execution_count": null,
   "metadata": {},
   "outputs": [],
   "source": [
    "#   todo   good suggestion from Sasha, organize journals by issn"
   ]
  }
 ],
 "metadata": {
  "kernelspec": {
   "display_name": "Python 3",
   "language": "python",
   "name": "python3"
  },
  "language_info": {
   "codemirror_mode": {
    "name": "ipython",
    "version": 3
   },
   "file_extension": ".py",
   "mimetype": "text/x-python",
   "name": "python",
   "nbconvert_exporter": "python",
   "pygments_lexer": "ipython3",
   "version": "3.7.4"
  }
 },
 "nbformat": 4,
 "nbformat_minor": 2
}
