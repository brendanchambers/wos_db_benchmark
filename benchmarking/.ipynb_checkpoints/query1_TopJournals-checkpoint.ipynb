{
 "cells": [
  {
   "cell_type": "markdown",
   "metadata": {},
   "source": [
    "## benchmarking query 1\n",
    "\n",
    "1. \\\n",
    "pick a year, return the 10 journals with largest number of publications\n"
   ]
  },
  {
   "cell_type": "code",
   "execution_count": 2,
   "metadata": {},
   "outputs": [],
   "source": [
    "import pymysql\n",
    "import time\n",
    "import json"
   ]
  },
  {
   "cell_type": "code",
   "execution_count": 3,
   "metadata": {},
   "outputs": [],
   "source": [
    "db_name = 'test_wos_cut_full'\n",
    "\n",
    "client_config = {'unix_socket':'/project2/jevans/study_dbs/mysql/.sql.sock',\n",
    "                'database': db_name}"
   ]
  },
  {
   "cell_type": "markdown",
   "metadata": {},
   "source": [
    "### benchmark query 1\n",
    "\n",
    "https://stackoverflow.com/questions/1503959/how-to-count-occurrences-of-a-column-value-efficiently-in-sql\n"
   ]
  },
  {
   "cell_type": "code",
   "execution_count": 4,
   "metadata": {},
   "outputs": [
    {
     "name": "stdout",
     "output_type": "stream",
     "text": [
      "((1978, 'FEDERATION PROCEEDINGS', 7287), (1978, 'BULLETIN OF THE AMERICAN PHYSICAL SOCIETY', 5895), (1978, 'CLINICAL RESEARCH', 5208), (1978, 'ABSTRACTS OF PAPERS OF THE AMERICAN CHEMICAL SOCIETY', 4514), (1978, 'BRITISH MEDICAL JOURNAL', 3597), (1978, 'LANCET', 3189), (1978, 'TLS-THE TIMES LITERARY SUPPLEMENT', 3062), (1978, 'NATURE', 2990), (1978, 'TRANSACTIONS-AMERICAN GEOPHYSICAL UNION', 2812), (1978, 'DOKLADY AKADEMII NAUK SSSR', 2339))\n",
      "elapsed (s): 5.288315534591675\n"
     ]
    }
   ],
   "source": [
    "# top publications (for a single year)\n",
    "\n",
    "K_journals = 10\n",
    "year = 1978\n",
    "\n",
    "start_time = time.time()\n",
    "\n",
    "db = pymysql.connect(**client_config)\n",
    "\n",
    "cursor = db.cursor()\n",
    "sql = '''SELECT pubyear, source, count(source)\n",
    "        FROM publications\n",
    "        WHERE pubyear={}\n",
    "        GROUP BY source\n",
    "        ORDER BY count(source) DESC\n",
    "        LIMIT {}\n",
    "        '''.format(year, K_journals)\n",
    "\n",
    "cursor.execute(sql)\n",
    "\n",
    "#for i,result in enumerate(cursor):\n",
    "#    print('{}: '.format(i))\n",
    "#    print(result)\n",
    "results_1978 = cursor.fetchall()\n",
    "print(results_1978)\n",
    "\n",
    "cursor.close()\n",
    "db.close()\n",
    "\n",
    "end_time = time.time()\n",
    "elapsed_1978 = end_time - start_time\n",
    "print(\"elapsed (s): {}\".format(elapsed_1978))\n"
   ]
  },
  {
   "cell_type": "code",
   "execution_count": null,
   "metadata": {},
   "outputs": [],
   "source": [
    "# top publications (over all years)\n",
    "\n",
    "K_journals = 10\n",
    "\n",
    "start_time = time.time()\n",
    "\n",
    "db = pymysql.connect(**client_config)\n",
    "\n",
    "cursor = db.cursor()\n",
    "sql = '''SELECT pubyear, source, count(source)\n",
    "        FROM publications\n",
    "        GROUP BY source\n",
    "        ORDER BY count(source) DESC\n",
    "        LIMIT {}\n",
    "        '''.format(K_journals)\n",
    "\n",
    "cursor.execute(sql)\n",
    "\n",
    "#for i,result in enumerate(cursor):\n",
    "#    print('{}: '.format(i))\n",
    "#    print(result)\n",
    "results_allyears = cursor.fetchall()\n",
    "print(results_allyears)\n",
    "\n",
    "cursor.close()\n",
    "db.close()\n",
    "\n",
    "end_time = time.time()\n",
    "elapsed_allyears = end_time - start_time\n",
    "print(\"elapsed (s): {}\".format(elapsed_allyears))\n"
   ]
  },
  {
   "cell_type": "code",
   "execution_count": 5,
   "metadata": {},
   "outputs": [],
   "source": [
    "save_obj = {'elapsed_1978': elapsed,\n",
    "            'results_1978': results_1978,\n",
    "           'elapsed_allYears': elapsed_allyears,\n",
    "           'results_allYears': results_allyears}\n",
    "\n",
    "with open('query1_results.json','w') as f:\n",
    "    json.dump(save_obj, f)"
   ]
  },
  {
   "cell_type": "code",
   "execution_count": null,
   "metadata": {},
   "outputs": [],
   "source": []
  },
  {
   "cell_type": "code",
   "execution_count": null,
   "metadata": {},
   "outputs": [],
   "source": []
  },
  {
   "cell_type": "code",
   "execution_count": null,
   "metadata": {},
   "outputs": [],
   "source": []
  },
  {
   "cell_type": "code",
   "execution_count": null,
   "metadata": {},
   "outputs": [],
   "source": []
  },
  {
   "cell_type": "code",
   "execution_count": null,
   "metadata": {},
   "outputs": [],
   "source": []
  },
  {
   "cell_type": "code",
   "execution_count": null,
   "metadata": {},
   "outputs": [],
   "source": []
  }
 ],
 "metadata": {
  "kernelspec": {
   "display_name": "Python 3",
   "language": "python",
   "name": "python3"
  },
  "language_info": {
   "codemirror_mode": {
    "name": "ipython",
    "version": 3
   },
   "file_extension": ".py",
   "mimetype": "text/x-python",
   "name": "python",
   "nbconvert_exporter": "python",
   "pygments_lexer": "ipython3",
   "version": "3.7.4"
  }
 },
 "nbformat": 4,
 "nbformat_minor": 2
}
