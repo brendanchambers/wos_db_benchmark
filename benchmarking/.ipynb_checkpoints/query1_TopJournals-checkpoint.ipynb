{
 "cells": [
  {
   "cell_type": "markdown",
   "metadata": {},
   "source": [
    "## benchmarking query 1\n",
    "\n",
    "1. \\\n",
    "pick a year, return the 10 journals with largest number of publications\n"
   ]
  },
  {
   "cell_type": "code",
   "execution_count": 4,
   "metadata": {},
   "outputs": [],
   "source": [
    "import pymysql\n",
    "import time"
   ]
  },
  {
   "cell_type": "code",
   "execution_count": 5,
   "metadata": {},
   "outputs": [],
   "source": [
    "db_name = 'test_wos_cut_full'\n",
    "\n",
    "client_config = {'unix_socket':'/project2/jevans/study_dbs/mysql/.sql.sock',\n",
    "                'database': db_name}"
   ]
  },
  {
   "cell_type": "markdown",
   "metadata": {},
   "source": [
    "### benchmark query 1\n",
    "\n",
    "https://stackoverflow.com/questions/1503959/how-to-count-occurrences-of-a-column-value-efficiently-in-sql\n"
   ]
  },
  {
   "cell_type": "code",
   "execution_count": 8,
   "metadata": {},
   "outputs": [
    {
     "name": "stdout",
     "output_type": "stream",
     "text": [
      "0: \n",
      "(1975, 'BULLETIN OF THE AMERICAN PHYSICAL SOCIETY', 5887)\n",
      "1: \n",
      "(1975, 'FEDERATION PROCEEDINGS', 4947)\n",
      "2: \n",
      "(1975, 'CLINICAL RESEARCH', 3867)\n",
      "3: \n",
      "(1975, 'ABSTRACTS OF PAPERS OF THE AMERICAN CHEMICAL SOCIETY', 3451)\n",
      "4: \n",
      "(1975, 'LANCET', 3061)\n",
      "5: \n",
      "(1975, 'TLS-THE TIMES LITERARY SUPPLEMENT', 3005)\n",
      "6: \n",
      "(1975, 'NATURE', 2987)\n",
      "7: \n",
      "(1975, 'BRITISH MEDICAL JOURNAL', 2951)\n",
      "8: \n",
      "(1975, 'NOTICES OF THE AMERICAN MATHEMATICAL SOCIETY', 2420)\n",
      "9: \n",
      "(1975, 'DOKLADY AKADEMII NAUK SSSR', 2405)\n",
      "()\n",
      "elapsed (s): 4.698902606964111\n"
     ]
    }
   ],
   "source": [
    "# get list of years\n",
    "\n",
    "K_journals = 10\n",
    "year = 1975\n",
    "\n",
    "start_time = time.time()\n",
    "\n",
    "db = pymysql.connect(**client_config)\n",
    "\n",
    "cursor = db.cursor()\n",
    "sql = '''SELECT pubyear, source, count(source)\n",
    "        FROM publications\n",
    "        WHERE pubyear={}\n",
    "        GROUP BY source\n",
    "        ORDER BY count(source) DESC\n",
    "        LIMIT {}\n",
    "        '''.format(year, K_journals)\n",
    "\n",
    "cursor.execute(sql)\n",
    "\n",
    "for i,result in enumerate(cursor):\n",
    "    print('{}: '.format(i))\n",
    "    print(result)\n",
    "results = cursor.fetchall()\n",
    "print(results)\n",
    "\n",
    "cursor.close()\n",
    "db.close()\n",
    "\n",
    "end_time = time.time()\n",
    "print(\"elapsed (s): {}\".format(end_time - start_time))\n"
   ]
  },
  {
   "cell_type": "code",
   "execution_count": null,
   "metadata": {},
   "outputs": [],
   "source": []
  },
  {
   "cell_type": "code",
   "execution_count": null,
   "metadata": {},
   "outputs": [],
   "source": []
  },
  {
   "cell_type": "code",
   "execution_count": null,
   "metadata": {},
   "outputs": [],
   "source": []
  },
  {
   "cell_type": "code",
   "execution_count": null,
   "metadata": {},
   "outputs": [],
   "source": []
  },
  {
   "cell_type": "code",
   "execution_count": null,
   "metadata": {},
   "outputs": [],
   "source": []
  },
  {
   "cell_type": "code",
   "execution_count": null,
   "metadata": {},
   "outputs": [],
   "source": []
  },
  {
   "cell_type": "code",
   "execution_count": null,
   "metadata": {},
   "outputs": [],
   "source": []
  },
  {
   "cell_type": "code",
   "execution_count": null,
   "metadata": {},
   "outputs": [],
   "source": []
  },
  {
   "cell_type": "code",
   "execution_count": null,
   "metadata": {},
   "outputs": [],
   "source": []
  }
 ],
 "metadata": {
  "kernelspec": {
   "display_name": "Python 3",
   "language": "python",
   "name": "python3"
  },
  "language_info": {
   "codemirror_mode": {
    "name": "ipython",
    "version": 3
   },
   "file_extension": ".py",
   "mimetype": "text/x-python",
   "name": "python",
   "nbconvert_exporter": "python",
   "pygments_lexer": "ipython3",
   "version": "3.7.3"
  }
 },
 "nbformat": 4,
 "nbformat_minor": 2
}
