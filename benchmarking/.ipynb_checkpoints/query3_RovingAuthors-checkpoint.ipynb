{
 "cells": [
  {
   "cell_type": "code",
   "execution_count": 1,
   "metadata": {},
   "outputs": [],
   "source": [
    "# query 3\n",
    "\n",
    "# get the list of authors who appear in affiliations from more than 2 countries\n",
    "#  do not address name disambiguation here\n"
   ]
  },
  {
   "cell_type": "code",
   "execution_count": 6,
   "metadata": {},
   "outputs": [],
   "source": [
    "import pymysql\n",
    "import time"
   ]
  },
  {
   "cell_type": "code",
   "execution_count": 7,
   "metadata": {},
   "outputs": [],
   "source": [
    "db_name = 'test_wos_cut_full'\n",
    "\n",
    "client_config = {'unix_socket':'/project2/jevans/study_dbs/mysql/.sql.sock',\n",
    "                'database': db_name}"
   ]
  },
  {
   "cell_type": "code",
   "execution_count": 93,
   "metadata": {},
   "outputs": [
    {
     "name": "stdout",
     "output_type": "stream",
     "text": [
      "0: \n",
      "('AARSNES', 'K', 4)\n",
      "1: \n",
      "('AAHLIN', 'P', 2)\n",
      "2: \n",
      "('AAKVAAG', 'A', 2)\n",
      "3: \n",
      "('AALDERS', 'JWG', 2)\n",
      "4: \n",
      "('AALTO', 'M', 2)\n",
      "5: \n",
      "('AARDEN', 'LA', 2)\n",
      "6: \n",
      "('ABARU', 'DE', 2)\n",
      "7: \n",
      "('ABATUROV', 'LV', 2)\n",
      "8: \n",
      "('ABBAS', 'R', 2)\n",
      "9: \n",
      "('ABBASSIOUN', 'K', 2)\n",
      "10: \n",
      "('ABBATI', None, 2)\n",
      "11: \n",
      "('ABBOTT', 'AJ', 2)\n",
      "12: \n",
      "('ABBOTT', 'BC', 2)\n",
      "13: \n",
      "('ABBOTT', 'IJ', 2)\n",
      "14: \n",
      "('ABBOTT', 'LK', 2)\n",
      "15: \n",
      "('ABBOUD', 'JL', 2)\n",
      "()\n",
      "elapsed (s): 10.688954591751099\n"
     ]
    }
   ],
   "source": [
    "# get list of years\n",
    "\n",
    "K_countries = 2  # todo apply this cutoff\n",
    "\n",
    "start_time = time.time()\n",
    "\n",
    "db = pymysql.connect(**client_config)\n",
    "\n",
    "cursor = db.cursor()\n",
    "\n",
    "sql = '''\n",
    "        SELECT last_name, first_name, count(*) as name_count\n",
    "        FROM (\n",
    "            SELECT \n",
    "                C.last_name, C.first_name, I.country\n",
    "            FROM institutions as I\n",
    "            JOIN contributors as C\n",
    "            ON I.wos_id=C.wos_id\n",
    "            WHERE C.last_name IS NOT NULL\n",
    "            GROUP BY C.last_name, C.first_name, I.country\n",
    "            ) t\n",
    "        GROUP BY last_name, first_name\n",
    "        HAVING name_count > 2\n",
    "        ORDER BY name_count DESC\n",
    "        '''\n",
    "\n",
    "#        GROUP BY C.last_name, C.first_name\n",
    "#        ORDER BY count(DISTINCT C.first_name, C.last_name) DESC\n",
    "\n",
    "cursor.execute(sql)\n",
    "\n",
    "for i,result in enumerate(cursor):\n",
    "    print('{}: '.format(i))\n",
    "    print(result)\n",
    "results = cursor.fetchall()\n",
    "print(results)\n",
    "\n",
    "cursor.close()\n",
    "db.close()\n",
    "\n",
    "end_time = time.time()\n",
    "print(\"elapsed (s): {}\".format(end_time - start_time))\n"
   ]
  },
  {
   "cell_type": "code",
   "execution_count": 92,
   "metadata": {},
   "outputs": [],
   "source": [
    "db.close()"
   ]
  },
  {
   "cell_type": "code",
   "execution_count": null,
   "metadata": {},
   "outputs": [],
   "source": []
  }
 ],
 "metadata": {
  "kernelspec": {
   "display_name": "Python 3",
   "language": "python",
   "name": "python3"
  },
  "language_info": {
   "codemirror_mode": {
    "name": "ipython",
    "version": 3
   },
   "file_extension": ".py",
   "mimetype": "text/x-python",
   "name": "python",
   "nbconvert_exporter": "python",
   "pygments_lexer": "ipython3",
   "version": "3.7.3"
  }
 },
 "nbformat": 4,
 "nbformat_minor": 2
}
