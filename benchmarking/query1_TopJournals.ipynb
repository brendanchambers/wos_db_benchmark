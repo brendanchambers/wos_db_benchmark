{
 "cells": [
  {
   "cell_type": "markdown",
   "metadata": {},
   "source": [
    "## benchmarking query 1\n",
    "\n",
    "1. \\\n",
    "pick a year, return the 10 journals with largest number of publications\n"
   ]
  },
  {
   "cell_type": "code",
   "execution_count": 1,
   "metadata": {},
   "outputs": [],
   "source": [
    "import pymysql\n",
    "import time\n",
    "import json"
   ]
  },
  {
   "cell_type": "code",
   "execution_count": 2,
   "metadata": {},
   "outputs": [],
   "source": [
    "db_name = 'test_wos_cut_full'\n",
    "\n",
    "client_config = {'unix_socket':'/project2/jevans/study_dbs/mysql/.sql.sock',\n",
    "                'database': db_name}"
   ]
  },
  {
   "cell_type": "markdown",
   "metadata": {},
   "source": [
    "### benchmark query 1\n",
    "\n",
    "https://stackoverflow.com/questions/1503959/how-to-count-occurrences-of-a-column-value-efficiently-in-sql\n"
   ]
  },
  {
   "cell_type": "code",
   "execution_count": 3,
   "metadata": {},
   "outputs": [
    {
     "name": "stdout",
     "output_type": "stream",
     "text": [
      "((1978, 'FEDERATION PROCEEDINGS', 7287), (1978, 'BULLETIN OF THE AMERICAN PHYSICAL SOCIETY', 5895), (1978, 'CLINICAL RESEARCH', 5208), (1978, 'ABSTRACTS OF PAPERS OF THE AMERICAN CHEMICAL SOCIETY', 4514), (1978, 'BRITISH MEDICAL JOURNAL', 3597), (1978, 'LANCET', 3189), (1978, 'TLS-THE TIMES LITERARY SUPPLEMENT', 3062), (1978, 'NATURE', 2990), (1978, 'TRANSACTIONS-AMERICAN GEOPHYSICAL UNION', 2812), (1978, 'DOKLADY AKADEMII NAUK SSSR', 2339))\n",
      "elapsed (s): 12.609336137771606\n"
     ]
    }
   ],
   "source": [
    "# top publications (for a single year)\n",
    "\n",
    "K_journals = 10\n",
    "year = 1978\n",
    "\n",
    "start_time = time.time()\n",
    "\n",
    "db = pymysql.connect(**client_config)\n",
    "\n",
    "cursor = db.cursor()\n",
    "sql = '''SELECT pubyear, source, count(source)\n",
    "        FROM publications\n",
    "        WHERE pubyear={}\n",
    "        GROUP BY source\n",
    "        ORDER BY count(source) DESC\n",
    "        LIMIT {}\n",
    "        '''.format(year, K_journals)\n",
    "\n",
    "cursor.execute(sql)\n",
    "\n",
    "#for i,result in enumerate(cursor):\n",
    "#    print('{}: '.format(i))\n",
    "#    print(result)\n",
    "results_1978 = cursor.fetchall()\n",
    "print(results_1978)\n",
    "\n",
    "cursor.close()\n",
    "db.close()\n",
    "\n",
    "end_time = time.time()\n",
    "elapsed_1978 = end_time - start_time\n",
    "print(\"elapsed (s): {}\".format(elapsed_1978))\n"
   ]
  },
  {
   "cell_type": "code",
   "execution_count": 7,
   "metadata": {},
   "outputs": [
    {
     "name": "stdout",
     "output_type": "stream",
     "text": [
      "((1962, 'FEDERATION PROCEEDINGS', 66630), (1968, 'BULLETIN OF THE AMERICAN PHYSICAL SOCIETY', 58448), (1960, 'NATURE', 53108), (1971, 'ABSTRACTS OF PAPERS OF THE AMERICAN CHEMICAL SOCIETY', 44989), (1960, 'LANCET', 40646), (1960, 'JOURNAL OF THE AMERICAN CHEMICAL SOCIETY', 36692), (1960, 'BRITISH MEDICAL JOURNAL', 36584), (1960, 'DOKLADY AKADEMII NAUK SSSR', 36076), (1960, 'BIOCHIMICA ET BIOPHYSICA ACTA', 35845), (1960, 'JOURNAL OF CHEMICAL PHYSICS', 33579), (1975, 'CLINICAL RESEARCH', 27591), (1960, 'SCIENCE', 27437), (1961, 'JOURNAL OF ORGANIC CHEMISTRY', 24276), (1961, 'TETRAHEDRON LETTERS', 22417), (1961, 'NEW ENGLAND JOURNAL OF MEDICINE', 22313), (1960, 'JOURNAL OF BIOLOGICAL CHEMISTRY', 22220), (1971, 'TRANSACTIONS-AMERICAN GEOPHYSICAL UNION', 20816), (1960, 'JOURNAL OF APPLIED PHYSICS', 20622), (1961, 'JOURNAL OF DENTAL RESEARCH', 18384), (1960, 'CIRCULATION', 18245), (1960, 'PHYSICAL REVIEW LETTERS', 18200), (1975, 'TLS-THE TIMES LITERARY SUPPLEMENT', 17691), (1966, 'COMPTES RENDUS HEBDOMADAIRES DES SEANCES DE L ACADEMIE DES SCIENCES SERIE D', 17095), (1960, 'PHYSICAL REVIEW', 16776), (1965, 'EXPERIENTIA', 16734), (1963, 'JOURNAL OF THE ACOUSTICAL SOCIETY OF AMERICA', 16390), (1960, 'BIOCHEMICAL AND BIOPHYSICAL RESEARCH COMMUNICATIONS', 16356), (1961, 'JAMA-JOURNAL OF THE AMERICAN MEDICAL ASSOCIATION', 15864), (1961, 'BIOCHEMICAL JOURNAL', 15470), (1961, 'BULLETIN OF THE CHEMICAL SOCIETY OF JAPAN', 14858), (1960, 'JOURNAL OF THE ELECTROCHEMICAL SOCIETY', 14832), (1960, 'JOURNAL OF PHYSICAL CHEMISTRY', 14741), (1963, 'PROCEEDINGS OF THE NATIONAL ACADEMY OF SCIENCES OF THE UNITED STATES OF AMERICA', 14722), (1970, 'PHYSICAL REVIEW B', 14695), (1960, 'ASTROPHYSICAL JOURNAL', 14678), (1967, 'TRANSACTIONS OF THE AMERICAN NUCLEAR SOCIETY', 14663), (1960, 'GASTROENTEROLOGY', 14081), (1964, 'JOURNAL OF CELL BIOLOGY', 14034), (1971, 'NOTICES OF THE AMERICAN MATHEMATICAL SOCIETY', 13848), (1960, 'PROCEEDINGS OF THE SOCIETY FOR EXPERIMENTAL BIOLOGY AND MEDICINE', 13824), (1964, 'JOURNAL OF PHYSIOLOGY-LONDON', 13666), (1967, 'PEDIATRIC RESEARCH', 13451), (1960, 'ANALYTICAL CHEMISTRY', 12947), (1961, 'MEDICAL JOURNAL OF AUSTRALIA', 12847), (1963, 'BIOCHEMISTRY', 12761), (1961, 'JOURNAL OF BACTERIOLOGY', 12705), (1960, 'JOURNAL OF CHROMATOGRAPHY', 12493), (1967, 'PHYSICS LETTERS A', 12388), (1960, 'JOURNAL OF ANIMAL SCIENCE', 12203), (1963, 'INORGANIC CHEMISTRY', 12120), (1967, 'CHEMICAL PHYSICS LETTERS', 11768), (1962, 'AMERICAN HISTORICAL REVIEW', 11565), (1960, 'JOURNAL OF THE OPTICAL SOCIETY OF AMERICA', 11521), (1960, 'AMERICAN JOURNAL OF PHYSIOLOGY', 11485), (1960, 'JOURNAL OF THE PHYSICAL SOCIETY OF JAPAN', 11430), (1960, 'PLANT PHYSIOLOGY', 11409), (1960, 'JOURNAL OF GEOPHYSICAL RESEARCH', 11353), (1971, 'PROCEEDINGS OF THE AMERICAN ASSOCIATION FOR CANCER RESEARCH', 11257), (1960, 'NUCLEAR INSTRUMENTS & METHODS', 11151), (1960, 'ZHURNAL OBSHCHEI KHIMII', 11095), (1960, 'ANATOMICAL RECORD', 11093), (1971, 'NEW SOCIETY', 10838), (1966, 'JOURNAL OF ORGANOMETALLIC CHEMISTRY', 10775), (1960, 'POULTRY SCIENCE', 10646), (1960, 'DEUTSCHE MEDIZINISCHE WOCHENSCHRIFT', 10536), (1960, 'AMERICAN JOURNAL OF OBSTETRICS AND GYNECOLOGY', 10413), (1969, 'FEBS LETTERS', 10358), (1967, 'NUCLEAR PHYSICS A', 10255), (1960, 'ANNALS OF THE NEW YORK ACADEMY OF SCIENCES', 10194), (1969, 'BRAIN RESEARCH', 10192), (1962, 'JOURNAL OF IMMUNOLOGY', 10132), (1966, 'ELECTROENCEPHALOGRAPHY AND CLINICAL NEUROPHYSIOLOGY', 10098), (1971, 'PHYSICS LETTERS B', 10042), (1970, 'PHYSICAL REVIEW D', 9965), (1964, 'SOLID STATE COMMUNICATIONS', 9951), (1960, 'ZHURNAL NEORGANICHESKOI KHIMII', 9819), (1966, 'COMPTES RENDUS HEBDOMADAIRES DES SEANCES DE L ACADEMIE DES SCIENCES SERIE C', 9804), (1961, 'ZHURNAL FIZICHESKOI KHIMII', 9793), (1965, 'VETERINARY RECORD', 9793), (1960, 'PHYTOPATHOLOGY', 9559), (1967, 'JOURNAL OF PEDIATRICS', 9499), (1961, 'CANCER RESEARCH', 9481), (1972, 'SOUTH AFRICAN MEDICAL JOURNAL', 9407), (1960, 'ARCHIVES OF BIOCHEMISTRY AND BIOPHYSICS', 9375), (1963, 'APPLIED OPTICS', 9371), (1963, 'TETRAHEDRON', 9318), (1969, 'CLINICAL CHEMISTRY', 9124), (1962, 'RADIOLOGY', 9110), (1961, 'JOURNAL OF INORGANIC & NUCLEAR CHEMISTRY', 9094), (1960, 'CHEMISCHE BERICHTE-RECUEIL', 9067), (1976, 'NEW YORK TIMES BOOK REVIEW', 8890), (1961, 'JOURNAL OF DAIRY SCIENCE', 8864), (1960, 'ANNALS OF INTERNAL MEDICINE', 8854), (1962, 'CANCER', 8728), (1960, 'AMERICAN JOURNAL OF CARDIOLOGY', 8684), (1961, 'CANADIAN MEDICAL ASSOCIATION JOURNAL', 8646), (1965, 'APPLIED PHYSICS LETTERS', 8553), (1960, 'AMERICAN JOURNAL OF PSYCHIATRY', 8462), (1961, 'ACTA ENDOCRINOLOGICA', 8336), (1961, 'JOURNAL OF PHARMACEUTICAL SCIENCES', 8336), (1972, 'JOURNAL OF THE CHEMICAL SOCIETY-CHEMICAL COMMUNICATIONS', 8329), (1968, 'PHYTOCHEMISTRY', 8307), (1960, 'JOURNAL OF UROLOGY', 8303), (1960, 'ENDOCRINOLOGY', 8233), (1972, 'NOUVELLE PRESSE MEDICALE', 8231), (1966, 'COMPTES RENDUS HEBDOMADAIRES DES SEANCES DE L ACADEMIE DES SCIENCES SERIE A', 8200), (1962, 'CHEMICAL & PHARMACEUTICAL BULLETIN', 8191), (1967, 'EUROPEAN JOURNAL OF BIOCHEMISTRY', 8161), (1961, 'COLLECTION OF CZECHOSLOVAK CHEMICAL COMMUNICATIONS', 8071), (1964, 'HOPPE-SEYLERS ZEITSCHRIFT FUR PHYSIOLOGISCHE CHEMIE', 8038), (1972, 'FIZIKA TVERDOGO TELA', 7987), (1960, 'JOURNAL OF CLINICAL INVESTIGATION', 7848), (1966, 'CURRENT SCIENCE', 7828), (1962, 'PSYCHOLOGICAL REPORTS', 7778), (1960, 'BULLETIN DE LA SOCIETE CHIMIQUE DE FRANCE', 7761), (1962, 'ANALYTICAL BIOCHEMISTRY', 7721), (1961, 'PEDIATRICS', 7704), (1960, 'REVIEW OF SCIENTIFIC INSTRUMENTS', 7683), (1963, 'JOURNAL OF THE AMERICAN VETERINARY MEDICAL ASSOCIATION', 7651), (1962, 'RADIATION RESEARCH', 7646), (1966, 'BIOCHEMICAL PHARMACOLOGY', 7542), (1971, 'PHYSICA STATUS SOLIDI A-APPLIED RESEARCH', 7411), (1965, 'JAPANESE JOURNAL OF APPLIED PHYSICS', 7403), (1965, 'JOURNAL OF THE AMERICAN MEDICAL ASSOCIATION', 7332), (1960, 'JOURNAL OF ECONOMIC ENTOMOLOGY', 7310))\n",
      "elapsed (s): 55.04946303367615\n"
     ]
    }
   ],
   "source": [
    "# top publications (over all years)\n",
    "\n",
    "K_journals = 125\n",
    "\n",
    "start_time = time.time()\n",
    "\n",
    "db = pymysql.connect(**client_config)\n",
    "\n",
    "cursor = db.cursor()\n",
    "sql = '''SELECT pubyear, source, count(source)\n",
    "        FROM publications\n",
    "        GROUP BY source\n",
    "        ORDER BY count(source) DESC\n",
    "        LIMIT {}\n",
    "        '''.format(K_journals)\n",
    "\n",
    "cursor.execute(sql)\n",
    "\n",
    "#for i,result in enumerate(cursor):\n",
    "#    print('{}: '.format(i))\n",
    "#    print(result)\n",
    "results_allyears = cursor.fetchall()\n",
    "print(results_allyears)\n",
    "\n",
    "cursor.close()\n",
    "db.close()\n",
    "\n",
    "end_time = time.time()\n",
    "elapsed_allyears = end_time - start_time\n",
    "print(\"elapsed (s): {}\".format(elapsed_allyears))\n"
   ]
  },
  {
   "cell_type": "code",
   "execution_count": 6,
   "metadata": {},
   "outputs": [],
   "source": [
    "save_obj = {'elapsed_1978': elapsed_1978,\n",
    "            'results_1978': results_1978,\n",
    "           'elapsed_allYears': elapsed_allyears,\n",
    "           'results_allYears': results_allyears}\n",
    "\n",
    "with open('query1_results_125.json','w') as f:\n",
    "    json.dump(save_obj, f)"
   ]
  },
  {
   "cell_type": "code",
   "execution_count": null,
   "metadata": {},
   "outputs": [],
   "source": []
  },
  {
   "cell_type": "code",
   "execution_count": null,
   "metadata": {},
   "outputs": [],
   "source": []
  },
  {
   "cell_type": "code",
   "execution_count": null,
   "metadata": {},
   "outputs": [],
   "source": []
  },
  {
   "cell_type": "code",
   "execution_count": null,
   "metadata": {},
   "outputs": [],
   "source": []
  },
  {
   "cell_type": "code",
   "execution_count": null,
   "metadata": {},
   "outputs": [],
   "source": []
  },
  {
   "cell_type": "code",
   "execution_count": null,
   "metadata": {},
   "outputs": [],
   "source": []
  }
 ],
 "metadata": {
  "kernelspec": {
   "display_name": "Python 3",
   "language": "python",
   "name": "python3"
  },
  "language_info": {
   "codemirror_mode": {
    "name": "ipython",
    "version": 3
   },
   "file_extension": ".py",
   "mimetype": "text/x-python",
   "name": "python",
   "nbconvert_exporter": "python",
   "pygments_lexer": "ipython3",
   "version": "3.7.4"
  }
 },
 "nbformat": 4,
 "nbformat_minor": 2
}
