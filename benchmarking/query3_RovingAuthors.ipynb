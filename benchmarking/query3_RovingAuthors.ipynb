{
 "cells": [
  {
   "cell_type": "code",
   "execution_count": 1,
   "metadata": {},
   "outputs": [],
   "source": [
    "# query 3\n",
    "\n",
    "# get the list of authors who appear in affiliations from more than 2 countries\n",
    "#  do not address name disambiguation here\n"
   ]
  },
  {
   "cell_type": "code",
   "execution_count": 2,
   "metadata": {},
   "outputs": [],
   "source": [
    "import pymysql\n",
    "import time\n",
    "import json"
   ]
  },
  {
   "cell_type": "code",
   "execution_count": 3,
   "metadata": {},
   "outputs": [],
   "source": [
    "db_name = 'test_wos_cut_full'\n",
    "\n",
    "client_config = {'unix_socket':'/project2/jevans/study_dbs/mysql/.sql.sock',\n",
    "                'database': db_name}"
   ]
  },
  {
   "cell_type": "code",
   "execution_count": null,
   "metadata": {},
   "outputs": [],
   "source": [
    "# get list of years\n",
    "\n",
    "K_countries = 2  # authors who have published from this many countries\n",
    "\n",
    "start_time = time.time()\n",
    "\n",
    "db = pymysql.connect(**client_config)\n",
    "\n",
    "cursor = db.cursor()\n",
    "\n",
    "sql = '''\n",
    "        SELECT last_name, first_name, count(*) as name_count\n",
    "        FROM (\n",
    "            SELECT \n",
    "                C.last_name, C.first_name, I.country\n",
    "            FROM institutions as I\n",
    "            JOIN contributors as C\n",
    "            ON I.wos_id=C.wos_id\n",
    "            WHERE C.last_name IS NOT NULL\n",
    "            GROUP BY C.last_name, C.first_name, I.country\n",
    "            ) t\n",
    "        GROUP BY last_name, first_name\n",
    "        HAVING name_count > 2\n",
    "        ORDER BY name_count DESC\n",
    "        '''\n",
    "\n",
    "cursor.execute(sql)\n",
    "\n",
    "#for i,result in enumerate(cursor):\n",
    "#    print('{}: '.format(i))\n",
    "#    print(result)\n",
    "results = cursor.fetchall()\n",
    "print(results)\n",
    "\n",
    "cursor.close()\n",
    "db.close()\n",
    "\n",
    "end_time = time.time()\n",
    "elapsed = end_time - start_time\n",
    "print(\"elapsed (s): {}\".format(elapsed))\n"
   ]
  },
  {
   "cell_type": "code",
   "execution_count": null,
   "metadata": {},
   "outputs": [],
   "source": []
  },
  {
   "cell_type": "code",
   "execution_count": null,
   "metadata": {},
   "outputs": [],
   "source": [
    "save_obj = {'elapsed': elapsed,\n",
    "            'results': results}\n",
    "\n",
    "with open('query3_results.json','w') as f:\n",
    "    json.dump(save_obj, f)"
   ]
  },
  {
   "cell_type": "code",
   "execution_count": null,
   "metadata": {},
   "outputs": [],
   "source": []
  }
 ],
 "metadata": {
  "kernelspec": {
   "display_name": "Python 3",
   "language": "python",
   "name": "python3"
  },
  "language_info": {
   "codemirror_mode": {
    "name": "ipython",
    "version": 3
   },
   "file_extension": ".py",
   "mimetype": "text/x-python",
   "name": "python",
   "nbconvert_exporter": "python",
   "pygments_lexer": "ipython3",
   "version": "3.7.4"
  }
 },
 "nbformat": 4,
 "nbformat_minor": 2
}
