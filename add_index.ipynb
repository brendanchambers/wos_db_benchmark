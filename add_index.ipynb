{
 "cells": [
  {
   "cell_type": "code",
   "execution_count": 1,
   "metadata": {},
   "outputs": [],
   "source": [
    "#"
   ]
  },
  {
   "cell_type": "code",
   "execution_count": 6,
   "metadata": {},
   "outputs": [],
   "source": [
    "#import mysql.connector as mysql\n",
    "import pymysql\n",
    "import time"
   ]
  },
  {
   "cell_type": "code",
   "execution_count": 3,
   "metadata": {},
   "outputs": [],
   "source": [
    "#"
   ]
  },
  {
   "cell_type": "code",
   "execution_count": 7,
   "metadata": {},
   "outputs": [
    {
     "name": "stdout",
     "output_type": "stream",
     "text": [
      "('contributors',)\n",
      "('institutions',)\n",
      "('publications',)\n",
      "('the_references',)\n",
      "('wosIDs',)\n"
     ]
    }
   ],
   "source": [
    "client_config = {'unix_socket':'/project2/jevans/study_dbs/mysql/.sql.sock',\n",
    "                'database':'test_wos_cut_full'}\n",
    "\n",
    "db = pymysql.connect(**client_config)\n",
    "cursor = db.cursor()\n",
    "\n",
    "# print the table names\n",
    "sql_query = 'SHOW tables'\n",
    "cursor.execute(sql_query)\n",
    "\n",
    "for element in cursor:\n",
    "    print(element)\n",
    "\n",
    "cursor.close()\n",
    "db.close()"
   ]
  },
  {
   "cell_type": "code",
   "execution_count": null,
   "metadata": {},
   "outputs": [],
   "source": [
    "# warning: `references` is a reserved word--so need to enclose it with `back ticks`\n",
    "\n",
    "\n",
    "# note - default types could use some optimization - \n",
    "#    lots of bigints that could be ints\n",
    "#    text columns that could be varchar\n",
    "\n"
   ]
  },
  {
   "cell_type": "markdown",
   "metadata": {},
   "source": [
    "# index publications - Source, Pubyear, wos_id"
   ]
  },
  {
   "cell_type": "code",
   "execution_count": 4,
   "metadata": {},
   "outputs": [
    {
     "name": "stdout",
     "output_type": "stream",
     "text": [
      "elapsed s: 23.437213897705078\n"
     ]
    }
   ],
   "source": [
    "# add index to SOURCE field of publications\n",
    "\n",
    "start_time = time.time()\n",
    "\n",
    "db = pymysql.connect(**client_config)\n",
    "cursor = db.cursor()\n",
    "\n",
    "sql_query = 'CREATE FULLTEXT INDEX pub_source_idx ON publications (source)'\n",
    "cursor.execute(sql_query)\n",
    "\n",
    "cursor.close()\n",
    "db.commit()\n",
    "db.close()\n",
    "\n",
    "end_time = time.time()\n",
    "print('elapsed s: {}'.format(end_time - start_time))\n"
   ]
  },
  {
   "cell_type": "code",
   "execution_count": 8,
   "metadata": {},
   "outputs": [
    {
     "name": "stdout",
     "output_type": "stream",
     "text": [
      "elapsed s: 31.61596417427063\n"
     ]
    }
   ],
   "source": [
    "# add index to wos_id field of publications\n",
    "\n",
    "start_time = time.time()\n",
    "\n",
    "db = pymysql.connect(**client_config)\n",
    "cursor = db.cursor()\n",
    "\n",
    "sql_query = 'CREATE INDEX wos_id_idx ON publications (wos_id(50))'\n",
    "cursor.execute(sql_query)\n",
    "\n",
    "cursor.close()\n",
    "db.commit()\n",
    "db.close()\n",
    "\n",
    "end_time = time.time()\n",
    "print('elapsed s: {}'.format(end_time - start_time))"
   ]
  },
  {
   "cell_type": "code",
   "execution_count": 5,
   "metadata": {},
   "outputs": [
    {
     "name": "stdout",
     "output_type": "stream",
     "text": [
      "elapsed s: 25.98326349258423\n"
     ]
    }
   ],
   "source": [
    "# add index to PUBYEAR field of publications\n",
    "\n",
    "start_time = time.time()\n",
    "\n",
    "db = pymysql.connect(**client_config)\n",
    "cursor = db.cursor()\n",
    "\n",
    "sql_query = 'CREATE INDEX pub_year_idx ON publications (pubyear)'\n",
    "cursor.execute(sql_query)\n",
    "\n",
    "cursor.close()\n",
    "db.commit()\n",
    "db.close()\n",
    "\n",
    "end_time = time.time()\n",
    "print('elapsed s: {}'.format(end_time - start_time))\n"
   ]
  },
  {
   "cell_type": "markdown",
   "metadata": {},
   "source": [
    "# index contributors - first_name, last_name, wos_id"
   ]
  },
  {
   "cell_type": "code",
   "execution_count": 9,
   "metadata": {},
   "outputs": [
    {
     "name": "stdout",
     "output_type": "stream",
     "text": [
      "elapsed s: 54.59759759902954\n"
     ]
    }
   ],
   "source": [
    "start_time = time.time()\n",
    "\n",
    "db = pymysql.connect(**client_config)\n",
    "cursor = db.cursor()\n",
    "\n",
    "sql_query = 'CREATE INDEX first_name_idx ON contributors (first_name(50))'\n",
    "cursor.execute(sql_query)\n",
    "\n",
    "cursor.close()\n",
    "db.commit()\n",
    "db.close()\n",
    "\n",
    "end_time = time.time()\n",
    "print('elapsed s: {}'.format(end_time - start_time))\n"
   ]
  },
  {
   "cell_type": "code",
   "execution_count": 10,
   "metadata": {},
   "outputs": [
    {
     "name": "stdout",
     "output_type": "stream",
     "text": [
      "elapsed s: 43.543877363204956\n"
     ]
    }
   ],
   "source": [
    "start_time = time.time()\n",
    "\n",
    "db = pymysql.connect(**client_config)\n",
    "cursor = db.cursor()\n",
    "\n",
    "sql_query = 'CREATE INDEX last_name_idx ON contributors (last_name(50))'\n",
    "cursor.execute(sql_query)\n",
    "\n",
    "cursor.close()\n",
    "db.commit()\n",
    "db.close()\n",
    "\n",
    "end_time = time.time()\n",
    "print('elapsed s: {}'.format(end_time - start_time))"
   ]
  },
  {
   "cell_type": "code",
   "execution_count": 12,
   "metadata": {},
   "outputs": [
    {
     "name": "stdout",
     "output_type": "stream",
     "text": [
      "elapsed s: 56.708698987960815\n"
     ]
    }
   ],
   "source": [
    "start_time = time.time()\n",
    "\n",
    "db = pymysql.connect(**client_config)\n",
    "cursor = db.cursor()\n",
    "\n",
    "sql_query = 'CREATE INDEX wos_id_idx ON contributors (wos_id(50))'\n",
    "cursor.execute(sql_query)\n",
    "\n",
    "cursor.close()\n",
    "db.commit()\n",
    "db.close()\n",
    "\n",
    "end_time = time.time()\n",
    "print('elapsed s: {}'.format(end_time - start_time))"
   ]
  },
  {
   "cell_type": "code",
   "execution_count": null,
   "metadata": {},
   "outputs": [],
   "source": []
  },
  {
   "cell_type": "markdown",
   "metadata": {},
   "source": [
    "# add index to institutions - country, wos_id"
   ]
  },
  {
   "cell_type": "code",
   "execution_count": 13,
   "metadata": {},
   "outputs": [
    {
     "name": "stdout",
     "output_type": "stream",
     "text": [
      "elapsed s: 5.92754054069519\n"
     ]
    },
    {
     "name": "stderr",
     "output_type": "stream",
     "text": [
      "/home/brendanchambers/.conda/envs/embedding-base/lib/python3.7/site-packages/pymysql/cursors.py:170: Warning: (124, 'InnoDB rebuilding table to add column FTS_DOC_ID')\n",
      "  result = self._query(query)\n"
     ]
    }
   ],
   "source": [
    "start_time = time.time()\n",
    "\n",
    "db = pymysql.connect(**client_config)\n",
    "cursor = db.cursor()\n",
    "\n",
    "sql_query = 'CREATE FULLTEXT INDEX country_idx ON institutions (country(50))'\n",
    "cursor.execute(sql_query)\n",
    "\n",
    "cursor.close()\n",
    "db.commit()\n",
    "db.close()\n",
    "\n",
    "end_time = time.time()\n",
    "print('elapsed s: {}'.format(end_time - start_time))"
   ]
  },
  {
   "cell_type": "code",
   "execution_count": 14,
   "metadata": {},
   "outputs": [
    {
     "name": "stdout",
     "output_type": "stream",
     "text": [
      "elapsed s: 0.556553840637207\n"
     ]
    }
   ],
   "source": [
    "start_time = time.time()\n",
    "\n",
    "db = pymysql.connect(**client_config)\n",
    "cursor = db.cursor()\n",
    "\n",
    "sql_query = 'CREATE INDEX wos_id_idx ON institutions (wos_id(50))'\n",
    "cursor.execute(sql_query)\n",
    "\n",
    "cursor.close()\n",
    "db.commit()\n",
    "db.close()\n",
    "\n",
    "end_time = time.time()\n",
    "print('elapsed s: {}'.format(end_time - start_time))"
   ]
  },
  {
   "cell_type": "markdown",
   "metadata": {},
   "source": [
    "# index the_references - wos_id (source) uid (target)"
   ]
  },
  {
   "cell_type": "code",
   "execution_count": 15,
   "metadata": {},
   "outputs": [
    {
     "name": "stdout",
     "output_type": "stream",
     "text": [
      "elapsed s: 593.88418841362\n"
     ]
    }
   ],
   "source": [
    "start_time = time.time()\n",
    "\n",
    "db = pymysql.connect(**client_config)\n",
    "cursor = db.cursor()\n",
    "\n",
    "sql_query = 'CREATE INDEX source_idx ON the_references (wos_id(50))'\n",
    "cursor.execute(sql_query)\n",
    "\n",
    "cursor.close()\n",
    "db.commit()\n",
    "db.close()\n",
    "\n",
    "end_time = time.time()\n",
    "print('elapsed s: {}'.format(end_time - start_time))"
   ]
  },
  {
   "cell_type": "code",
   "execution_count": 16,
   "metadata": {},
   "outputs": [
    {
     "name": "stdout",
     "output_type": "stream",
     "text": [
      "elapsed s: 438.31633043289185\n"
     ]
    }
   ],
   "source": [
    "start_time = time.time()\n",
    "\n",
    "db = pymysql.connect(**client_config)\n",
    "cursor = db.cursor()\n",
    "\n",
    "sql_query = 'CREATE INDEX target_idx ON the_references (uid(50))'\n",
    "cursor.execute(sql_query)\n",
    "\n",
    "cursor.close()\n",
    "db.commit()\n",
    "db.close()\n",
    "\n",
    "end_time = time.time()\n",
    "print('elapsed s: {}'.format(end_time - start_time))"
   ]
  },
  {
   "cell_type": "code",
   "execution_count": null,
   "metadata": {},
   "outputs": [],
   "source": []
  },
  {
   "cell_type": "code",
   "execution_count": null,
   "metadata": {},
   "outputs": [],
   "source": [
    "db = pymysql.connect(**client_config)\n",
    "cursor = db.cursor()\n",
    "sql_query = 'DESCRIBE test_wos'\n",
    "cursor.execute(sql_query)\n",
    "\n",
    "for el in cursor:\n",
    "    print(el)\n",
    "    \n"
   ]
  },
  {
   "cell_type": "code",
   "execution_count": 5,
   "metadata": {},
   "outputs": [],
   "source": [
    "#"
   ]
  },
  {
   "cell_type": "code",
   "execution_count": 5,
   "metadata": {},
   "outputs": [
    {
     "ename": "Error",
     "evalue": "Already closed",
     "output_type": "error",
     "traceback": [
      "\u001b[0;31m---------------------------------------------------------------------------\u001b[0m",
      "\u001b[0;31mError\u001b[0m                                     Traceback (most recent call last)",
      "\u001b[0;32m<ipython-input-5-8ecdd5800829>\u001b[0m in \u001b[0;36m<module>\u001b[0;34m\u001b[0m\n\u001b[1;32m      1\u001b[0m \u001b[0;31m# TODO add indices as needed to speed up test queries\u001b[0m\u001b[0;34m\u001b[0m\u001b[0;34m\u001b[0m\u001b[0;34m\u001b[0m\u001b[0m\n\u001b[1;32m      2\u001b[0m \u001b[0;34m\u001b[0m\u001b[0m\n\u001b[0;32m----> 3\u001b[0;31m \u001b[0mdb\u001b[0m\u001b[0;34m.\u001b[0m\u001b[0mclose\u001b[0m\u001b[0;34m(\u001b[0m\u001b[0;34m)\u001b[0m\u001b[0;34m\u001b[0m\u001b[0;34m\u001b[0m\u001b[0m\n\u001b[0m",
      "\u001b[0;32m~/.conda/envs/embedding-base/lib/python3.7/site-packages/pymysql/connections.py\u001b[0m in \u001b[0;36mclose\u001b[0;34m(self)\u001b[0m\n\u001b[1;32m    352\u001b[0m         \"\"\"\n\u001b[1;32m    353\u001b[0m         \u001b[0;32mif\u001b[0m \u001b[0mself\u001b[0m\u001b[0;34m.\u001b[0m\u001b[0m_closed\u001b[0m\u001b[0;34m:\u001b[0m\u001b[0;34m\u001b[0m\u001b[0;34m\u001b[0m\u001b[0m\n\u001b[0;32m--> 354\u001b[0;31m             \u001b[0;32mraise\u001b[0m \u001b[0merr\u001b[0m\u001b[0;34m.\u001b[0m\u001b[0mError\u001b[0m\u001b[0;34m(\u001b[0m\u001b[0;34m\"Already closed\"\u001b[0m\u001b[0;34m)\u001b[0m\u001b[0;34m\u001b[0m\u001b[0;34m\u001b[0m\u001b[0m\n\u001b[0m\u001b[1;32m    355\u001b[0m         \u001b[0mself\u001b[0m\u001b[0;34m.\u001b[0m\u001b[0m_closed\u001b[0m \u001b[0;34m=\u001b[0m \u001b[0;32mTrue\u001b[0m\u001b[0;34m\u001b[0m\u001b[0;34m\u001b[0m\u001b[0m\n\u001b[1;32m    356\u001b[0m         \u001b[0;32mif\u001b[0m \u001b[0mself\u001b[0m\u001b[0;34m.\u001b[0m\u001b[0m_sock\u001b[0m \u001b[0;32mis\u001b[0m \u001b[0;32mNone\u001b[0m\u001b[0;34m:\u001b[0m\u001b[0;34m\u001b[0m\u001b[0;34m\u001b[0m\u001b[0m\n",
      "\u001b[0;31mError\u001b[0m: Already closed"
     ]
    }
   ],
   "source": [
    "# TODO add indices as needed to speed up test queries\n",
    "\n",
    "db.close()"
   ]
  },
  {
   "cell_type": "code",
   "execution_count": null,
   "metadata": {},
   "outputs": [],
   "source": []
  },
  {
   "cell_type": "code",
   "execution_count": null,
   "metadata": {},
   "outputs": [],
   "source": []
  }
 ],
 "metadata": {
  "kernelspec": {
   "display_name": "Python 3",
   "language": "python",
   "name": "python3"
  },
  "language_info": {
   "codemirror_mode": {
    "name": "ipython",
    "version": 3
   },
   "file_extension": ".py",
   "mimetype": "text/x-python",
   "name": "python",
   "nbconvert_exporter": "python",
   "pygments_lexer": "ipython3",
   "version": "3.7.3"
  }
 },
 "nbformat": 4,
 "nbformat_minor": 2
}
